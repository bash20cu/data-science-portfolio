{
 "cells": [
  {
   "cell_type": "code",
   "execution_count": 1,
   "id": "a62cba41-b05f-4b59-98fa-ee6d99ffbfca",
   "metadata": {},
   "outputs": [
    {
     "name": "stdout",
     "output_type": "stream",
     "text": [
      "<class 'int'> <class 'float'> <class 'str'> <class 'list'> <class 'dict'>\n"
     ]
    }
   ],
   "source": [
    "#Repasa Python (2–3 horas):\n",
    "#Tipos de datos (int, float, str, list, dict).\n",
    "\n",
    "int = 10\n",
    "float_num = 10.5\n",
    "string = \"Hola, Mundo\"\n",
    "my_list = [1, 2, 3, 4, 5]\n",
    "my_dict = {\"clave1\": \"valor1\", \"clave2\": \"valor2\"}\n",
    "\n",
    "print(type(int), type(float_num), type(string), type(my_list), type(my_dict))\n"
   ]
  },
  {
   "cell_type": "code",
   "execution_count": 2,
   "id": "3c00a6f0-6bab-4cc0-82e0-3bbbd576a2a1",
   "metadata": {},
   "outputs": [
    {
     "name": "stdout",
     "output_type": "stream",
     "text": [
      "Promedio: 3.0\n",
      "Máximo: 5\n",
      "Mínimo: 1\n",
      "(3.0, 5, 1)\n"
     ]
    }
   ],
   "source": [
    "#Ejercicio: escribe una función que reciba una lista de números y devuelva el promedio, el máximo y el mínimo.\n",
    "def calcular_estadisticas(numeros):\n",
    "    promedio = sum(numeros) / len(numeros)\n",
    "    maximo = max(numeros)\n",
    "    minimo = min(numeros)\n",
    "    print(\"Promedio:\", promedio)\n",
    "    print(\"Máximo:\", maximo)  \n",
    "    print(\"Mínimo:\", minimo)\n",
    "    return promedio, maximo, minimo\n",
    "\n",
    "print(calcular_estadisticas([1, 2, 3, 4, 5]))"
   ]
  },
  {
   "cell_type": "code",
   "execution_count": 1,
   "id": "13ee89ba-1535-457c-8ab7-9407e5d66b74",
   "metadata": {},
   "outputs": [
    {
     "name": "stdout",
     "output_type": "stream",
     "text": [
      "{'Ana': {'notas': [90, 80, 100], 'promedio': 90.0}, 'Luis': {'notas': [100, 95, 90], 'promedio': 95.0}, 'María': {'notas': [70, 85, 75], 'promedio': 76.67}}\n"
     ]
    }
   ],
   "source": [
    "# Haz una función que simule un “mini reporte de notas”: recibe un diccionario con nombres y \n",
    "# calificaciones, y devuelve el promedio de cada estudiante.\n",
    "notas = {\n",
    "    \"Ana\": [90, 80, 100],\n",
    "    \"María\": [70, 85, 75],\n",
    "    \"Luis\": [100, 95, 90]\n",
    "}\n",
    "def mini_reporte_notas(diccionario_notas):\n",
    "    notas_con_promedio = diccionario_notas.copy()\n",
    "    for estudiante, lista_notas in  notas_con_promedio.items():\n",
    "        promedio = round(sum(lista_notas) / len(lista_notas),2)\n",
    "        notas_con_promedio[estudiante] = {\"notas\": lista_notas, \"promedio\": promedio}\n",
    "    diccionario_ordenado_asc = dict(sorted(notas_con_promedio.items(), key=lambda item: item[0]))\n",
    "    #print(diccionario_ordenado_asc)\n",
    "    return diccionario_ordenado_asc\n",
    "print(mini_reporte_notas(notas))"
   ]
  },
  {
   "cell_type": "code",
   "execution_count": null,
   "id": "964eeefa-8152-4a03-a330-65882c75677c",
   "metadata": {},
   "outputs": [],
   "source": []
  }
 ],
 "metadata": {
  "kernelspec": {
   "display_name": "Python 3 (ipykernel)",
   "language": "python",
   "name": "python3"
  },
  "language_info": {
   "codemirror_mode": {
    "name": "ipython",
    "version": 3
   },
   "file_extension": ".py",
   "mimetype": "text/x-python",
   "name": "python",
   "nbconvert_exporter": "python",
   "pygments_lexer": "ipython3",
   "version": "3.11.9"
  }
 },
 "nbformat": 4,
 "nbformat_minor": 5
}
